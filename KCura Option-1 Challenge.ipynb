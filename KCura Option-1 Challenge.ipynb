{
 "cells": [
  {
   "cell_type": "code",
   "execution_count": 12,
   "metadata": {
    "collapsed": false
   },
   "outputs": [],
   "source": [
    "import fileinput, string, sys, re\n",
    "from collections import Counter\n",
    "from operator import itemgetter\n",
    "\n",
    "def readfile(filename):\n",
    "    records = []\n",
    "    for line in fileinput.input(filename):\n",
    "        if fileinput.isfirstline():  # first row becomes col names\n",
    "            columns = line.split('|')  # split on the delimiter\n",
    "\n",
    "        if not fileinput.isfirstline():\n",
    "            try:\n",
    "                line[1]  # only append populated rows\n",
    "                otherline = line.split('|')  # split on the delimiter\n",
    "                records.append(otherline)\n",
    "            except IndexError:\n",
    "                print \"emptyline\"\n",
    "    return records"
   ]
  },
  {
   "cell_type": "code",
   "execution_count": 13,
   "metadata": {
    "collapsed": false
   },
   "outputs": [],
   "source": [
    "def dataprocess(records):\n",
    "    data_clean=[]\n",
    "    inter_count=[]\n",
    "    for i in records:\n",
    "        for j in i:\n",
    "            data_clean.append(j.strip())\n",
    "    i=0\n",
    "    Processed_record=[]\n",
    "    while i<len(data_clean):\n",
    "        Processed_record.append(data_clean[i:i+4])\n",
    "        inter_count.append(data_clean[i+3])\n",
    "        i+=4\n",
    "    Processed_rec_sorted = sorted(Processed_record, key=lambda x: x[0],reverse=True)\n",
    "    inter = [c.split(';') for c in inter_count]\n",
    "    inter2 = reduce(lambda x,y: x+y,inter)\n",
    "    inter3 = [c.strip('I-') for c in inter2]\n",
    "    inter4 = map(int,inter3)\n",
    "    inter5 = map(list,sorted((Counter(inter4)).items(), key=itemgetter(0)))\n",
    "    inter6 = reduce(lambda x,y: x+y,inter5)\n",
    "    inter6 = ['I-'+str(item[0])+ ' '+str(item[1]) for item in inter5]\n",
    "    return Processed_rec_sorted,inter6"
   ]
  },
  {
   "cell_type": "code",
   "execution_count": 14,
   "metadata": {
    "collapsed": false
   },
   "outputs": [],
   "source": [
    "def conv_to_dict(Processed_rec_sorted):\n",
    "    dict_of_records = {}\n",
    "    for i in Processed_rec_sorted:\n",
    "        if i[0] in dict_of_records:\n",
    "            dict_of_records[i[0]] = dict_of_records[i[0]] + i[1:4]\n",
    "        else:\n",
    "            dict_of_records[i[0]] = i[1:4]\n",
    "    return dict_of_records"
   ]
  },
  {
   "cell_type": "code",
   "execution_count": 15,
   "metadata": {
    "collapsed": false
   },
   "outputs": [],
   "source": [
    "def combine_same_state_pop(dict_of_records):\n",
    "    \n",
    "    combined_list = {}\n",
    "    for i in dict_of_records:\n",
    "        count = len(dict_of_records[i])\n",
    "        if count == 3:\n",
    "            combined_list[i] = dict_of_records[i]\n",
    "        else:\n",
    "            x=0\n",
    "            temp_list=[]\n",
    "            lis = dict_of_records[i]\n",
    "            while x<len(lis):\n",
    "                temp_list.append(lis[x:x+3])\n",
    "                x+=3\n",
    "            sorted_temp_list = sorted(temp_list, key=lambda x: (x[1], x[0]))\n",
    "            combined_list[i] = sorted_temp_list\n",
    "    return combined_list"
   ]
  },
  {
   "cell_type": "code",
   "execution_count": 16,
   "metadata": {
    "collapsed": false
   },
   "outputs": [],
   "source": [
    "def writefile(combined_list,Inter_count):\n",
    "    \n",
    "    f = open(\"Cities_By_Population.txt\", \"w\")\n",
    "\n",
    "    for key in iter(reversed(sorted(combined_list.items(), key=lambda x: int(x[0])))):  \n",
    "        if len(key[1])==3:\n",
    "            state_Interstate = key[1]\n",
    "            f.write(\"\\n\")\n",
    "            f.write(key[0]+ \"\\n\")\n",
    "            f.write(\"\\n\")\n",
    "            f.write(str(state_Interstate[0]) +','+ ' ' + str(state_Interstate[1]) + \"\\n\")\n",
    "            interstate = re.split(r\"\\s*[,;]\\s*\", state_Interstate[2].strip())\n",
    "            f.write(\"Interstates:\"+ ' ' + ', '.join(interstate) + \"\\n\")\n",
    "\n",
    "        else:\n",
    "            f.write(\"\\n\")\n",
    "            f.write(key[0]+ \"\\n\")\n",
    "            state_Interstate = key[1]\n",
    "            for states in state_Interstate:\n",
    "                f.write(\"\\n\")\n",
    "                f.write(str(states[0]) +','+ ' ' + str(states[1]) + \"\\n\")\n",
    "                interstate = re.split(r\"\\s*[,;]\\s*\", states[2].strip())\n",
    "                f.write(\"Interstates:\" + ' '+ ', '.join(interstate) + \"\\n\")\n",
    "    f.close()\n",
    "    f = open(\"Interstates_By_City.txt\",\"w\")\n",
    "    for i in Inter_count:\n",
    "        f.write(i + \"\\n\")\n",
    "    f.close()\n",
    "    return"
   ]
  },
  {
   "cell_type": "code",
   "execution_count": 18,
   "metadata": {
    "collapsed": false
   },
   "outputs": [],
   "source": [
    "def main():\n",
    "    filename = raw_input(\"Enter Input Filename or type 'bye' to exit console: \")\n",
    "    if filename == 'bye':\n",
    "        sys.exit(0)\n",
    "    elif filename.endswith('.txt'):\n",
    "        read_rec = readfile(filename)\n",
    "        dp,inter_count = dataprocess(read_rec)\n",
    "        con_dict = conv_to_dict(dp)\n",
    "        combine = combine_same_state_pop(con_dict)\n",
    "        Final = writefile(combine,inter_count)\n",
    "        print \"Success..Please check your working directory for two files named 'Cities_By_Population.txt' and 'Interstates_By_City.txt'\"\n",
    "    else:\n",
    "        print \"Please make sure to type the filename along with its '.txt' extension !!!\"\n",
    "        main()\n",
    "    "
   ]
  },
  {
   "cell_type": "code",
   "execution_count": 19,
   "metadata": {
    "collapsed": false
   },
   "outputs": [
    {
     "name": "stdout",
     "output_type": "stream",
     "text": [
      "Enter Input Filename or type 'bye' to exit console: Sample_Cities1.txt\n",
      "Success..Please check your working directory for two files named 'Cities_By_Population.txt' and 'Interstates_By_City.txt'\n"
     ]
    }
   ],
   "source": [
    "if __name__ == '__main__':\n",
    "    main()\n",
    "    "
   ]
  },
  {
   "cell_type": "code",
   "execution_count": null,
   "metadata": {
    "collapsed": true
   },
   "outputs": [],
   "source": []
  }
 ],
 "metadata": {
  "kernelspec": {
   "display_name": "Python 2",
   "language": "python",
   "name": "python2"
  },
  "language_info": {
   "codemirror_mode": {
    "name": "ipython",
    "version": 2
   },
   "file_extension": ".py",
   "mimetype": "text/x-python",
   "name": "python",
   "nbconvert_exporter": "python",
   "pygments_lexer": "ipython2",
   "version": "2.7.10"
  }
 },
 "nbformat": 4,
 "nbformat_minor": 0
}
